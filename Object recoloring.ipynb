{
 "cells": [
  {
   "cell_type": "markdown",
   "id": "matched-bernard",
   "metadata": {},
   "source": [
    "# <center>Object Recoloring"
   ]
  },
  {
   "cell_type": "markdown",
   "id": "selected-radius",
   "metadata": {},
   "source": [
    "### Importing Libraries"
   ]
  },
  {
   "cell_type": "code",
   "execution_count": 1,
   "id": "unknown-making",
   "metadata": {},
   "outputs": [],
   "source": [
    "import numpy as np\n",
    "import cv2 as cv\n",
    "import matplotlib.pyplot as plt\n",
    "%matplotlib qt5"
   ]
  },
  {
   "cell_type": "markdown",
   "id": "regulated-release",
   "metadata": {},
   "source": [
    "### Reading the given image and creating the object mask"
   ]
  },
  {
   "cell_type": "code",
   "execution_count": 2,
   "id": "rocky-seminar",
   "metadata": {},
   "outputs": [],
   "source": [
    "img = cv.imread(\"mercedes.jpg\")\n",
    "\n",
    "HSV_img = cv.cvtColor(img, cv.COLOR_BGR2HSV)\n",
    "\n",
    "Lower_B_Val = np.array([100, 80, 20])\n",
    "Upper_B_Val = np.array([130, 255, 255])\n",
    "\n",
    "Car_Mask = cv.inRange(HSV_img, Lower_B_Val, Upper_B_Val)\n",
    "\n",
    "Car = cv.bitwise_and(img, img, mask=Car_Mask)\n",
    "\n",
    "Car_HSV = cv.cvtColor(Car, cv.COLOR_BGR2HSV)\n",
    "\n",
    "img_without_car = cv.cvtColor((img - Car),cv.COLOR_BGR2RGB)"
   ]
  },
  {
   "cell_type": "markdown",
   "id": "floating-doctor",
   "metadata": {},
   "source": [
    "###  Recoloring the object according to the selected color"
   ]
  },
  {
   "cell_type": "code",
   "execution_count": 3,
   "id": "enclosed-therapist",
   "metadata": {},
   "outputs": [
    {
     "name": "stdout",
     "output_type": "stream",
     "text": [
      "Please choose a color\n"
     ]
    },
    {
     "data": {
      "text/plain": [
       "<matplotlib.image.AxesImage at 0x2026b095c70>"
      ]
     },
     "execution_count": 3,
     "metadata": {},
     "output_type": "execute_result"
    }
   ],
   "source": [
    "Colormap = cv.imread(\"colormap.bmp\")\n",
    "plt.imshow(Colormap)\n",
    "\n",
    "print(\"Please choose a color\")\n",
    "\n",
    "Coordinates = plt.ginput(1)\n",
    "\n",
    "X_pixel = int(Coordinates[0][0])\n",
    "Y_pixel = int(Coordinates[0][1])\n",
    "\n",
    "Color = Colormap[Y_pixel,X_pixel]\n",
    "\n",
    "Color = np.uint8([[Color]])\n",
    "\n",
    "Color_HSV = cv.cvtColor(Color,cv.COLOR_RGB2HSV)\n",
    "\n",
    "Car_HSV[:,:,0] = Color_HSV[0,0,0]         # 0 is Hue , 1 is Saturation, 2 is Value\n",
    "Car_HSV[:,:,1] = Color_HSV[0,0,1]\n",
    "\n",
    "Car_new = cv.cvtColor(Car_HSV, cv.COLOR_HSV2RGB)\n",
    "\n",
    "img_new = img_without_car + Car_new\n",
    "\n",
    "fig, ax = plt.subplots(1,2,figsize=(24,12))\n",
    "ax[0].set_title('Input Image')\n",
    "ax[0].imshow(cv.cvtColor(img, cv.COLOR_BGR2RGB))\n",
    "ax[1].set_title('Output Image')\n",
    "ax[1].imshow(img_new)"
   ]
  },
  {
   "cell_type": "code",
   "execution_count": null,
   "id": "organized-start",
   "metadata": {},
   "outputs": [],
   "source": []
  }
 ],
 "metadata": {
  "kernelspec": {
   "display_name": "Python 3",
   "language": "python",
   "name": "python3"
  },
  "language_info": {
   "codemirror_mode": {
    "name": "ipython",
    "version": 3
   },
   "file_extension": ".py",
   "mimetype": "text/x-python",
   "name": "python",
   "nbconvert_exporter": "python",
   "pygments_lexer": "ipython3",
   "version": "3.8.8"
  }
 },
 "nbformat": 4,
 "nbformat_minor": 5
}
